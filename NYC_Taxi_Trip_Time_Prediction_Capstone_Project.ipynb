{
  "nbformat": 4,
  "nbformat_minor": 0,
  "metadata": {
    "kernelspec": {
      "display_name": "Python 3",
      "language": "python",
      "name": "python3"
    },
    "language_info": {
      "codemirror_mode": {
        "name": "ipython",
        "version": 3
      },
      "file_extension": ".py",
      "mimetype": "text/x-python",
      "name": "python",
      "nbconvert_exporter": "python",
      "pygments_lexer": "ipython3",
      "version": "3.6.6"
    },
    "colab": {
      "name": "Copy of NYC Taxi Trip Time Prediction - Capstone Project.ipynb",
      "provenance": [],
      "collapsed_sections": [],
      "include_colab_link": true
    }
  },
  "cells": [
    {
      "cell_type": "markdown",
      "metadata": {
        "id": "view-in-github",
        "colab_type": "text"
      },
      "source": [
        "<a href=\"https://colab.research.google.com/github/issatyajit/NYC-taxi-time-prediction/blob/main/NYC_Taxi_Trip_Time_Prediction_Capstone_Project.ipynb\" target=\"_parent\"><img src=\"https://colab.research.google.com/assets/colab-badge.svg\" alt=\"Open In Colab\"/></a>"
      ]
    },
    {
      "cell_type": "markdown",
      "metadata": {
        "id": "tOGC-qoyhJeX"
      },
      "source": [
        "# <b><u> Project Title : Taxi trip time Prediction : Predicting total ride duration of taxi trips in New York City</u></b>"
      ]
    },
    {
      "cell_type": "markdown",
      "metadata": {
        "id": "Y06xIdG26kRF"
      },
      "source": [
        "## <b> Problem Description </b>\n",
        "\n",
        "### Your task is to build a model that predicts the total ride duration of taxi trips in New York City. Your primary dataset is one released by the NYC Taxi and Limousine Commission, which includes pickup time, geo-coordinates, number of passengers, and several other variables."
      ]
    },
    {
      "cell_type": "markdown",
      "metadata": {
        "id": "WWeU1f9bwqQq"
      },
      "source": [
        "## <b> Data Description </b>\n",
        "\n",
        "### The dataset is based on the 2016 NYC Yellow Cab trip record data made available in Big Query on Google Cloud Platform. The data was originally published by the NYC Taxi and Limousine Commission (TLC). The data was sampled and cleaned for the purposes of this project. Based on individual trip attributes, you should predict the duration of each trip in the test set.\n",
        "\n",
        "### <b>NYC Taxi Data.csv</b> - the training set (contains 1458644 trip records)\n",
        "\n",
        "\n",
        "### Data fields\n",
        "* #### id - a unique identifier for each trip\n",
        "* #### vendor_id - a code indicating the provider associated with the trip record\n",
        "* #### pickup_datetime - date and time when the meter was engaged\n",
        "* #### dropoff_datetime - date and time when the meter was disengaged\n",
        "* #### passenger_count - the number of passengers in the vehicle (driver entered value)\n",
        "* #### pickup_longitude - the longitude where the meter was engaged\n",
        "* #### pickup_latitude - the latitude where the meter was engaged\n",
        "* #### dropoff_longitude - the longitude where the meter was disengaged\n",
        "* #### dropoff_latitude - the latitude where the meter was disengaged\n",
        "* #### store_and_fwd_flag - This flag indicates whether the trip record was held in vehicle memory before sending to the vendor because the vehicle did not have a connection to the server - Y=store and forward; N=not a store and forward trip\n",
        "* #### trip_duration - duration of the trip in seconds"
      ]
    },
    {
      "cell_type": "code",
      "metadata": {
        "id": "dByMsuzT8Tnw"
      },
      "source": [
        "import numpy as np\n",
        "import pandas as pd"
      ],
      "execution_count": 1,
      "outputs": []
    },
    {
      "cell_type": "code",
      "source": [
        "from google.colab import drive\n",
        "drive.mount('/content/drive')"
      ],
      "metadata": {
        "id": "Rta8tylbm2d7",
        "outputId": "5073200e-8c60-40ea-a59f-bb1b06587116",
        "colab": {
          "base_uri": "https://localhost:8080/"
        }
      },
      "execution_count": 2,
      "outputs": [
        {
          "output_type": "stream",
          "name": "stdout",
          "text": [
            "Mounted at /content/drive\n"
          ]
        }
      ]
    },
    {
      "cell_type": "code",
      "source": [
        "df=pd.read_csv('/content/drive/MyDrive/Almabetter/NYC Taxi Data.csv')"
      ],
      "metadata": {
        "id": "55RRq7wUnDNf"
      },
      "execution_count": 3,
      "outputs": []
    },
    {
      "cell_type": "code",
      "source": [
        "df.head()"
      ],
      "metadata": {
        "colab": {
          "base_uri": "https://localhost:8080/",
          "height": 357
        },
        "id": "3Mok3nq7nfha",
        "outputId": "eaf4869f-3d30-43d7-b285-98cf4547d001"
      },
      "execution_count": 4,
      "outputs": [
        {
          "output_type": "execute_result",
          "data": {
            "text/plain": [
              "          id  vendor_id      pickup_datetime     dropoff_datetime  \\\n",
              "0  id2875421          2  2016-03-14 17:24:55  2016-03-14 17:32:30   \n",
              "1  id2377394          1  2016-06-12 00:43:35  2016-06-12 00:54:38   \n",
              "2  id3858529          2  2016-01-19 11:35:24  2016-01-19 12:10:48   \n",
              "3  id3504673          2  2016-04-06 19:32:31  2016-04-06 19:39:40   \n",
              "4  id2181028          2  2016-03-26 13:30:55  2016-03-26 13:38:10   \n",
              "\n",
              "   passenger_count  pickup_longitude  pickup_latitude  dropoff_longitude  \\\n",
              "0                1        -73.982155        40.767937         -73.964630   \n",
              "1                1        -73.980415        40.738564         -73.999481   \n",
              "2                1        -73.979027        40.763939         -74.005333   \n",
              "3                1        -74.010040        40.719971         -74.012268   \n",
              "4                1        -73.973053        40.793209         -73.972923   \n",
              "\n",
              "   dropoff_latitude store_and_fwd_flag  trip_duration  \n",
              "0         40.765602                  N            455  \n",
              "1         40.731152                  N            663  \n",
              "2         40.710087                  N           2124  \n",
              "3         40.706718                  N            429  \n",
              "4         40.782520                  N            435  "
            ],
            "text/html": [
              "\n",
              "  <div id=\"df-b6cf94f9-b0f4-4465-a14b-2f0a0bbe48e5\">\n",
              "    <div class=\"colab-df-container\">\n",
              "      <div>\n",
              "<style scoped>\n",
              "    .dataframe tbody tr th:only-of-type {\n",
              "        vertical-align: middle;\n",
              "    }\n",
              "\n",
              "    .dataframe tbody tr th {\n",
              "        vertical-align: top;\n",
              "    }\n",
              "\n",
              "    .dataframe thead th {\n",
              "        text-align: right;\n",
              "    }\n",
              "</style>\n",
              "<table border=\"1\" class=\"dataframe\">\n",
              "  <thead>\n",
              "    <tr style=\"text-align: right;\">\n",
              "      <th></th>\n",
              "      <th>id</th>\n",
              "      <th>vendor_id</th>\n",
              "      <th>pickup_datetime</th>\n",
              "      <th>dropoff_datetime</th>\n",
              "      <th>passenger_count</th>\n",
              "      <th>pickup_longitude</th>\n",
              "      <th>pickup_latitude</th>\n",
              "      <th>dropoff_longitude</th>\n",
              "      <th>dropoff_latitude</th>\n",
              "      <th>store_and_fwd_flag</th>\n",
              "      <th>trip_duration</th>\n",
              "    </tr>\n",
              "  </thead>\n",
              "  <tbody>\n",
              "    <tr>\n",
              "      <th>0</th>\n",
              "      <td>id2875421</td>\n",
              "      <td>2</td>\n",
              "      <td>2016-03-14 17:24:55</td>\n",
              "      <td>2016-03-14 17:32:30</td>\n",
              "      <td>1</td>\n",
              "      <td>-73.982155</td>\n",
              "      <td>40.767937</td>\n",
              "      <td>-73.964630</td>\n",
              "      <td>40.765602</td>\n",
              "      <td>N</td>\n",
              "      <td>455</td>\n",
              "    </tr>\n",
              "    <tr>\n",
              "      <th>1</th>\n",
              "      <td>id2377394</td>\n",
              "      <td>1</td>\n",
              "      <td>2016-06-12 00:43:35</td>\n",
              "      <td>2016-06-12 00:54:38</td>\n",
              "      <td>1</td>\n",
              "      <td>-73.980415</td>\n",
              "      <td>40.738564</td>\n",
              "      <td>-73.999481</td>\n",
              "      <td>40.731152</td>\n",
              "      <td>N</td>\n",
              "      <td>663</td>\n",
              "    </tr>\n",
              "    <tr>\n",
              "      <th>2</th>\n",
              "      <td>id3858529</td>\n",
              "      <td>2</td>\n",
              "      <td>2016-01-19 11:35:24</td>\n",
              "      <td>2016-01-19 12:10:48</td>\n",
              "      <td>1</td>\n",
              "      <td>-73.979027</td>\n",
              "      <td>40.763939</td>\n",
              "      <td>-74.005333</td>\n",
              "      <td>40.710087</td>\n",
              "      <td>N</td>\n",
              "      <td>2124</td>\n",
              "    </tr>\n",
              "    <tr>\n",
              "      <th>3</th>\n",
              "      <td>id3504673</td>\n",
              "      <td>2</td>\n",
              "      <td>2016-04-06 19:32:31</td>\n",
              "      <td>2016-04-06 19:39:40</td>\n",
              "      <td>1</td>\n",
              "      <td>-74.010040</td>\n",
              "      <td>40.719971</td>\n",
              "      <td>-74.012268</td>\n",
              "      <td>40.706718</td>\n",
              "      <td>N</td>\n",
              "      <td>429</td>\n",
              "    </tr>\n",
              "    <tr>\n",
              "      <th>4</th>\n",
              "      <td>id2181028</td>\n",
              "      <td>2</td>\n",
              "      <td>2016-03-26 13:30:55</td>\n",
              "      <td>2016-03-26 13:38:10</td>\n",
              "      <td>1</td>\n",
              "      <td>-73.973053</td>\n",
              "      <td>40.793209</td>\n",
              "      <td>-73.972923</td>\n",
              "      <td>40.782520</td>\n",
              "      <td>N</td>\n",
              "      <td>435</td>\n",
              "    </tr>\n",
              "  </tbody>\n",
              "</table>\n",
              "</div>\n",
              "      <button class=\"colab-df-convert\" onclick=\"convertToInteractive('df-b6cf94f9-b0f4-4465-a14b-2f0a0bbe48e5')\"\n",
              "              title=\"Convert this dataframe to an interactive table.\"\n",
              "              style=\"display:none;\">\n",
              "        \n",
              "  <svg xmlns=\"http://www.w3.org/2000/svg\" height=\"24px\"viewBox=\"0 0 24 24\"\n",
              "       width=\"24px\">\n",
              "    <path d=\"M0 0h24v24H0V0z\" fill=\"none\"/>\n",
              "    <path d=\"M18.56 5.44l.94 2.06.94-2.06 2.06-.94-2.06-.94-.94-2.06-.94 2.06-2.06.94zm-11 1L8.5 8.5l.94-2.06 2.06-.94-2.06-.94L8.5 2.5l-.94 2.06-2.06.94zm10 10l.94 2.06.94-2.06 2.06-.94-2.06-.94-.94-2.06-.94 2.06-2.06.94z\"/><path d=\"M17.41 7.96l-1.37-1.37c-.4-.4-.92-.59-1.43-.59-.52 0-1.04.2-1.43.59L10.3 9.45l-7.72 7.72c-.78.78-.78 2.05 0 2.83L4 21.41c.39.39.9.59 1.41.59.51 0 1.02-.2 1.41-.59l7.78-7.78 2.81-2.81c.8-.78.8-2.07 0-2.86zM5.41 20L4 18.59l7.72-7.72 1.47 1.35L5.41 20z\"/>\n",
              "  </svg>\n",
              "      </button>\n",
              "      \n",
              "  <style>\n",
              "    .colab-df-container {\n",
              "      display:flex;\n",
              "      flex-wrap:wrap;\n",
              "      gap: 12px;\n",
              "    }\n",
              "\n",
              "    .colab-df-convert {\n",
              "      background-color: #E8F0FE;\n",
              "      border: none;\n",
              "      border-radius: 50%;\n",
              "      cursor: pointer;\n",
              "      display: none;\n",
              "      fill: #1967D2;\n",
              "      height: 32px;\n",
              "      padding: 0 0 0 0;\n",
              "      width: 32px;\n",
              "    }\n",
              "\n",
              "    .colab-df-convert:hover {\n",
              "      background-color: #E2EBFA;\n",
              "      box-shadow: 0px 1px 2px rgba(60, 64, 67, 0.3), 0px 1px 3px 1px rgba(60, 64, 67, 0.15);\n",
              "      fill: #174EA6;\n",
              "    }\n",
              "\n",
              "    [theme=dark] .colab-df-convert {\n",
              "      background-color: #3B4455;\n",
              "      fill: #D2E3FC;\n",
              "    }\n",
              "\n",
              "    [theme=dark] .colab-df-convert:hover {\n",
              "      background-color: #434B5C;\n",
              "      box-shadow: 0px 1px 3px 1px rgba(0, 0, 0, 0.15);\n",
              "      filter: drop-shadow(0px 1px 2px rgba(0, 0, 0, 0.3));\n",
              "      fill: #FFFFFF;\n",
              "    }\n",
              "  </style>\n",
              "\n",
              "      <script>\n",
              "        const buttonEl =\n",
              "          document.querySelector('#df-b6cf94f9-b0f4-4465-a14b-2f0a0bbe48e5 button.colab-df-convert');\n",
              "        buttonEl.style.display =\n",
              "          google.colab.kernel.accessAllowed ? 'block' : 'none';\n",
              "\n",
              "        async function convertToInteractive(key) {\n",
              "          const element = document.querySelector('#df-b6cf94f9-b0f4-4465-a14b-2f0a0bbe48e5');\n",
              "          const dataTable =\n",
              "            await google.colab.kernel.invokeFunction('convertToInteractive',\n",
              "                                                     [key], {});\n",
              "          if (!dataTable) return;\n",
              "\n",
              "          const docLinkHtml = 'Like what you see? Visit the ' +\n",
              "            '<a target=\"_blank\" href=https://colab.research.google.com/notebooks/data_table.ipynb>data table notebook</a>'\n",
              "            + ' to learn more about interactive tables.';\n",
              "          element.innerHTML = '';\n",
              "          dataTable['output_type'] = 'display_data';\n",
              "          await google.colab.output.renderOutput(dataTable, element);\n",
              "          const docLink = document.createElement('div');\n",
              "          docLink.innerHTML = docLinkHtml;\n",
              "          element.appendChild(docLink);\n",
              "        }\n",
              "      </script>\n",
              "    </div>\n",
              "  </div>\n",
              "  "
            ]
          },
          "metadata": {},
          "execution_count": 4
        }
      ]
    },
    {
      "cell_type": "code",
      "source": [
        "df.shape"
      ],
      "metadata": {
        "colab": {
          "base_uri": "https://localhost:8080/"
        },
        "id": "t80FuDoqoThJ",
        "outputId": "4683b638-6dee-4795-9d75-b1b39a0360f9"
      },
      "execution_count": 5,
      "outputs": [
        {
          "output_type": "execute_result",
          "data": {
            "text/plain": [
              "(1458644, 11)"
            ]
          },
          "metadata": {},
          "execution_count": 5
        }
      ]
    },
    {
      "cell_type": "code",
      "source": [
        "df.isnull().sum(axis=0)"
      ],
      "metadata": {
        "colab": {
          "base_uri": "https://localhost:8080/"
        },
        "id": "yRRjqRwjoZSY",
        "outputId": "94eca204-d4d7-4647-f1d0-884a39ed433d"
      },
      "execution_count": 6,
      "outputs": [
        {
          "output_type": "execute_result",
          "data": {
            "text/plain": [
              "id                    0\n",
              "vendor_id             0\n",
              "pickup_datetime       0\n",
              "dropoff_datetime      0\n",
              "passenger_count       0\n",
              "pickup_longitude      0\n",
              "pickup_latitude       0\n",
              "dropoff_longitude     0\n",
              "dropoff_latitude      0\n",
              "store_and_fwd_flag    0\n",
              "trip_duration         0\n",
              "dtype: int64"
            ]
          },
          "metadata": {},
          "execution_count": 6
        }
      ]
    },
    {
      "cell_type": "code",
      "source": [
        "for col in df.columns:\n",
        "  print(f'Number of unique values in {col} is {len(df[col].unique())}')"
      ],
      "metadata": {
        "colab": {
          "base_uri": "https://localhost:8080/"
        },
        "id": "8psrT78ModkK",
        "outputId": "7cdcf2c1-d66e-48f4-80fe-0855bdf6b9c1"
      },
      "execution_count": 7,
      "outputs": [
        {
          "output_type": "stream",
          "name": "stdout",
          "text": [
            "Number of unique values in id is 1458644\n",
            "Number of unique values in vendor_id is 2\n",
            "Number of unique values in pickup_datetime is 1380222\n",
            "Number of unique values in dropoff_datetime is 1380377\n",
            "Number of unique values in passenger_count is 10\n",
            "Number of unique values in pickup_longitude is 23047\n",
            "Number of unique values in pickup_latitude is 45245\n",
            "Number of unique values in dropoff_longitude is 33821\n",
            "Number of unique values in dropoff_latitude is 62519\n",
            "Number of unique values in store_and_fwd_flag is 2\n",
            "Number of unique values in trip_duration is 7417\n"
          ]
        }
      ]
    },
    {
      "cell_type": "code",
      "source": [
        "df['pickup_datetime']=pd.to_datetime(df['pickup_datetime'])"
      ],
      "metadata": {
        "id": "5pTHRHjwr9vt"
      },
      "execution_count": 8,
      "outputs": []
    },
    {
      "cell_type": "code",
      "source": [
        "df['pickup_datetime'][0].date"
      ],
      "metadata": {
        "colab": {
          "base_uri": "https://localhost:8080/"
        },
        "id": "G5O-FpIFxz2P",
        "outputId": "7af9a0a4-ae71-4b1c-a786-05ebd4ef7ccf"
      },
      "execution_count": 9,
      "outputs": [
        {
          "output_type": "execute_result",
          "data": {
            "text/plain": [
              "<function Timestamp.date>"
            ]
          },
          "metadata": {},
          "execution_count": 9
        }
      ]
    },
    {
      "cell_type": "code",
      "source": [
        "unique_years=set()\n",
        "for i in df['pickup_datetime']:\n",
        "  unique_years.add(i.year)"
      ],
      "metadata": {
        "id": "Q1pSCdk1sJFd"
      },
      "execution_count": 10,
      "outputs": []
    },
    {
      "cell_type": "code",
      "source": [
        "unique_years"
      ],
      "metadata": {
        "colab": {
          "base_uri": "https://localhost:8080/"
        },
        "id": "99LmQeettOm1",
        "outputId": "15e0c681-8e79-4813-e174-8cff704d6c4a"
      },
      "execution_count": 11,
      "outputs": [
        {
          "output_type": "execute_result",
          "data": {
            "text/plain": [
              "{2016}"
            ]
          },
          "metadata": {},
          "execution_count": 11
        }
      ]
    },
    {
      "cell_type": "code",
      "source": [
        "df.info()"
      ],
      "metadata": {
        "colab": {
          "base_uri": "https://localhost:8080/"
        },
        "id": "esuqFV69pPJP",
        "outputId": "416b57fc-be74-40b9-88bc-1e124846f693"
      },
      "execution_count": 12,
      "outputs": [
        {
          "output_type": "stream",
          "name": "stdout",
          "text": [
            "<class 'pandas.core.frame.DataFrame'>\n",
            "RangeIndex: 1458644 entries, 0 to 1458643\n",
            "Data columns (total 11 columns):\n",
            " #   Column              Non-Null Count    Dtype         \n",
            "---  ------              --------------    -----         \n",
            " 0   id                  1458644 non-null  object        \n",
            " 1   vendor_id           1458644 non-null  int64         \n",
            " 2   pickup_datetime     1458644 non-null  datetime64[ns]\n",
            " 3   dropoff_datetime    1458644 non-null  object        \n",
            " 4   passenger_count     1458644 non-null  int64         \n",
            " 5   pickup_longitude    1458644 non-null  float64       \n",
            " 6   pickup_latitude     1458644 non-null  float64       \n",
            " 7   dropoff_longitude   1458644 non-null  float64       \n",
            " 8   dropoff_latitude    1458644 non-null  float64       \n",
            " 9   store_and_fwd_flag  1458644 non-null  object        \n",
            " 10  trip_duration       1458644 non-null  int64         \n",
            "dtypes: datetime64[ns](1), float64(4), int64(3), object(3)\n",
            "memory usage: 122.4+ MB\n"
          ]
        }
      ]
    },
    {
      "cell_type": "code",
      "source": [
        "pip install holidays"
      ],
      "metadata": {
        "colab": {
          "base_uri": "https://localhost:8080/"
        },
        "id": "BiwvjyZftU5l",
        "outputId": "1e7f5699-f254-437a-83f1-ff9466d52773"
      },
      "execution_count": 13,
      "outputs": [
        {
          "output_type": "stream",
          "name": "stdout",
          "text": [
            "Looking in indexes: https://pypi.org/simple, https://us-python.pkg.dev/colab-wheels/public/simple/\n",
            "Requirement already satisfied: holidays in /usr/local/lib/python3.7/dist-packages (0.10.5.2)\n",
            "Requirement already satisfied: hijri-converter in /usr/local/lib/python3.7/dist-packages (from holidays) (2.2.4)\n",
            "Requirement already satisfied: python-dateutil in /usr/local/lib/python3.7/dist-packages (from holidays) (2.8.2)\n",
            "Requirement already satisfied: korean-lunar-calendar in /usr/local/lib/python3.7/dist-packages (from holidays) (0.2.1)\n",
            "Requirement already satisfied: six in /usr/local/lib/python3.7/dist-packages (from holidays) (1.15.0)\n",
            "Requirement already satisfied: convertdate>=2.3.0 in /usr/local/lib/python3.7/dist-packages (from holidays) (2.4.0)\n",
            "Requirement already satisfied: pymeeus<=1,>=0.3.13 in /usr/local/lib/python3.7/dist-packages (from convertdate>=2.3.0->holidays) (0.5.11)\n"
          ]
        }
      ]
    },
    {
      "cell_type": "code",
      "source": [
        "from datetime import date\n",
        "import holidays\n",
        "holiday=[]\n",
        "us_holidays=holidays.USA()\n",
        "for ptr in holidays.USA(years = 2016).items():\n",
        "    holiday.append(ptr[0])"
      ],
      "metadata": {
        "id": "YRujRr09uBEq"
      },
      "execution_count": 14,
      "outputs": []
    },
    {
      "cell_type": "code",
      "source": [
        "holiday"
      ],
      "metadata": {
        "colab": {
          "base_uri": "https://localhost:8080/"
        },
        "id": "6-C4ffSF0CeJ",
        "outputId": "e69ce346-b143-4fab-b022-de023308bd91"
      },
      "execution_count": 15,
      "outputs": [
        {
          "output_type": "execute_result",
          "data": {
            "text/plain": [
              "[datetime.date(2016, 1, 1),\n",
              " datetime.date(2016, 1, 18),\n",
              " datetime.date(2016, 2, 15),\n",
              " datetime.date(2016, 5, 30),\n",
              " datetime.date(2016, 7, 4),\n",
              " datetime.date(2016, 9, 5),\n",
              " datetime.date(2016, 10, 10),\n",
              " datetime.date(2016, 11, 11),\n",
              " datetime.date(2016, 11, 24),\n",
              " datetime.date(2016, 12, 25),\n",
              " datetime.date(2016, 12, 26)]"
            ]
          },
          "metadata": {},
          "execution_count": 15
        }
      ]
    },
    {
      "cell_type": "code",
      "source": [
        "df['pickup_datetime'][0].date() in holiday"
      ],
      "metadata": {
        "colab": {
          "base_uri": "https://localhost:8080/"
        },
        "id": "QMy2dfmqw3pN",
        "outputId": "f0b46123-ef3b-4479-f575-a6a334ac2468"
      },
      "execution_count": 16,
      "outputs": [
        {
          "output_type": "execute_result",
          "data": {
            "text/plain": [
              "False"
            ]
          },
          "metadata": {},
          "execution_count": 16
        }
      ]
    },
    {
      "cell_type": "code",
      "source": [
        "def get_holiday(X):\n",
        "  if X in holiday:\n",
        "    A=1\n",
        "  else:\n",
        "    A=0\n",
        "  return A"
      ],
      "metadata": {
        "id": "HO8N3aFovCc5"
      },
      "execution_count": 17,
      "outputs": []
    },
    {
      "cell_type": "code",
      "source": [
        "df1=df"
      ],
      "metadata": {
        "id": "nDwbleyO3PJl"
      },
      "execution_count": 18,
      "outputs": []
    },
    {
      "cell_type": "code",
      "source": [
        "A=np.array([])\n",
        "for i in range(df.shape[0]):\n",
        "  A=np.append(A,get_holiday(df['pickup_datetime'][i].date()))"
      ],
      "metadata": {
        "id": "8bpJFhWL3JvY"
      },
      "execution_count": 19,
      "outputs": []
    },
    {
      "cell_type": "code",
      "source": [
        "df1=pd.DataFrame(A,columns=['is_holiday']).join(df)\n",
        "# next we make a column date number"
      ],
      "metadata": {
        "id": "kAyH2HSv4GpK"
      },
      "execution_count": 33,
      "outputs": []
    },
    {
      "cell_type": "code",
      "source": [
        "def get_date(X):\n",
        "  '''returns date number'''\n",
        "  return X.day\n",
        "def get_month_num(X):\n",
        "  return X.month\n",
        "def get_week(X):\n",
        "  return X.week\n",
        "def get_hour(X):\n",
        "  return X.hour"
      ],
      "metadata": {
        "id": "x7QW8zoeSS_4"
      },
      "execution_count": 59,
      "outputs": []
    },
    {
      "cell_type": "code",
      "source": [
        "df1['date_num']=df['pickup_datetime'].apply(get_date)\n",
        "df1['month_num']=df['pickup_datetime'].apply(get_month_num)\n",
        "df1['week_num']=df['pickup_datetime'].apply(get_week)\n",
        "df1['hour_of_day']=df['pickup_datetime'].apply(get_hour)"
      ],
      "metadata": {
        "id": "PzgImEE4C1bH"
      },
      "execution_count": 60,
      "outputs": []
    },
    {
      "cell_type": "code",
      "source": [
        "df1.head()"
      ],
      "metadata": {
        "colab": {
          "base_uri": "https://localhost:8080/",
          "height": 357
        },
        "id": "oCtJ2HneRBc9",
        "outputId": "1f5d9db3-2c04-436a-999c-1fc23731a6a1"
      },
      "execution_count": 61,
      "outputs": [
        {
          "output_type": "execute_result",
          "data": {
            "text/plain": [
              "   is_holiday         id  vendor_id     pickup_datetime     dropoff_datetime  \\\n",
              "0         0.0  id2875421          2 2016-03-14 17:24:55  2016-03-14 17:32:30   \n",
              "1         0.0  id2377394          1 2016-06-12 00:43:35  2016-06-12 00:54:38   \n",
              "2         0.0  id3858529          2 2016-01-19 11:35:24  2016-01-19 12:10:48   \n",
              "3         0.0  id3504673          2 2016-04-06 19:32:31  2016-04-06 19:39:40   \n",
              "4         0.0  id2181028          2 2016-03-26 13:30:55  2016-03-26 13:38:10   \n",
              "\n",
              "   passenger_count  pickup_longitude  pickup_latitude  dropoff_longitude  \\\n",
              "0                1        -73.982155        40.767937         -73.964630   \n",
              "1                1        -73.980415        40.738564         -73.999481   \n",
              "2                1        -73.979027        40.763939         -74.005333   \n",
              "3                1        -74.010040        40.719971         -74.012268   \n",
              "4                1        -73.973053        40.793209         -73.972923   \n",
              "\n",
              "   dropoff_latitude store_and_fwd_flag  trip_duration  date_num  month_num  \\\n",
              "0         40.765602                  N            455        14          3   \n",
              "1         40.731152                  N            663        12          6   \n",
              "2         40.710087                  N           2124        19          1   \n",
              "3         40.706718                  N            429         6          4   \n",
              "4         40.782520                  N            435        26          3   \n",
              "\n",
              "   week_num  hour_of_day  \n",
              "0        11           17  \n",
              "1        23            0  \n",
              "2         3           11  \n",
              "3        14           19  \n",
              "4        12           13  "
            ],
            "text/html": [
              "\n",
              "  <div id=\"df-6cba8630-e8d1-4dd6-9bff-51f06bd83ce5\">\n",
              "    <div class=\"colab-df-container\">\n",
              "      <div>\n",
              "<style scoped>\n",
              "    .dataframe tbody tr th:only-of-type {\n",
              "        vertical-align: middle;\n",
              "    }\n",
              "\n",
              "    .dataframe tbody tr th {\n",
              "        vertical-align: top;\n",
              "    }\n",
              "\n",
              "    .dataframe thead th {\n",
              "        text-align: right;\n",
              "    }\n",
              "</style>\n",
              "<table border=\"1\" class=\"dataframe\">\n",
              "  <thead>\n",
              "    <tr style=\"text-align: right;\">\n",
              "      <th></th>\n",
              "      <th>is_holiday</th>\n",
              "      <th>id</th>\n",
              "      <th>vendor_id</th>\n",
              "      <th>pickup_datetime</th>\n",
              "      <th>dropoff_datetime</th>\n",
              "      <th>passenger_count</th>\n",
              "      <th>pickup_longitude</th>\n",
              "      <th>pickup_latitude</th>\n",
              "      <th>dropoff_longitude</th>\n",
              "      <th>dropoff_latitude</th>\n",
              "      <th>store_and_fwd_flag</th>\n",
              "      <th>trip_duration</th>\n",
              "      <th>date_num</th>\n",
              "      <th>month_num</th>\n",
              "      <th>week_num</th>\n",
              "      <th>hour_of_day</th>\n",
              "    </tr>\n",
              "  </thead>\n",
              "  <tbody>\n",
              "    <tr>\n",
              "      <th>0</th>\n",
              "      <td>0.0</td>\n",
              "      <td>id2875421</td>\n",
              "      <td>2</td>\n",
              "      <td>2016-03-14 17:24:55</td>\n",
              "      <td>2016-03-14 17:32:30</td>\n",
              "      <td>1</td>\n",
              "      <td>-73.982155</td>\n",
              "      <td>40.767937</td>\n",
              "      <td>-73.964630</td>\n",
              "      <td>40.765602</td>\n",
              "      <td>N</td>\n",
              "      <td>455</td>\n",
              "      <td>14</td>\n",
              "      <td>3</td>\n",
              "      <td>11</td>\n",
              "      <td>17</td>\n",
              "    </tr>\n",
              "    <tr>\n",
              "      <th>1</th>\n",
              "      <td>0.0</td>\n",
              "      <td>id2377394</td>\n",
              "      <td>1</td>\n",
              "      <td>2016-06-12 00:43:35</td>\n",
              "      <td>2016-06-12 00:54:38</td>\n",
              "      <td>1</td>\n",
              "      <td>-73.980415</td>\n",
              "      <td>40.738564</td>\n",
              "      <td>-73.999481</td>\n",
              "      <td>40.731152</td>\n",
              "      <td>N</td>\n",
              "      <td>663</td>\n",
              "      <td>12</td>\n",
              "      <td>6</td>\n",
              "      <td>23</td>\n",
              "      <td>0</td>\n",
              "    </tr>\n",
              "    <tr>\n",
              "      <th>2</th>\n",
              "      <td>0.0</td>\n",
              "      <td>id3858529</td>\n",
              "      <td>2</td>\n",
              "      <td>2016-01-19 11:35:24</td>\n",
              "      <td>2016-01-19 12:10:48</td>\n",
              "      <td>1</td>\n",
              "      <td>-73.979027</td>\n",
              "      <td>40.763939</td>\n",
              "      <td>-74.005333</td>\n",
              "      <td>40.710087</td>\n",
              "      <td>N</td>\n",
              "      <td>2124</td>\n",
              "      <td>19</td>\n",
              "      <td>1</td>\n",
              "      <td>3</td>\n",
              "      <td>11</td>\n",
              "    </tr>\n",
              "    <tr>\n",
              "      <th>3</th>\n",
              "      <td>0.0</td>\n",
              "      <td>id3504673</td>\n",
              "      <td>2</td>\n",
              "      <td>2016-04-06 19:32:31</td>\n",
              "      <td>2016-04-06 19:39:40</td>\n",
              "      <td>1</td>\n",
              "      <td>-74.010040</td>\n",
              "      <td>40.719971</td>\n",
              "      <td>-74.012268</td>\n",
              "      <td>40.706718</td>\n",
              "      <td>N</td>\n",
              "      <td>429</td>\n",
              "      <td>6</td>\n",
              "      <td>4</td>\n",
              "      <td>14</td>\n",
              "      <td>19</td>\n",
              "    </tr>\n",
              "    <tr>\n",
              "      <th>4</th>\n",
              "      <td>0.0</td>\n",
              "      <td>id2181028</td>\n",
              "      <td>2</td>\n",
              "      <td>2016-03-26 13:30:55</td>\n",
              "      <td>2016-03-26 13:38:10</td>\n",
              "      <td>1</td>\n",
              "      <td>-73.973053</td>\n",
              "      <td>40.793209</td>\n",
              "      <td>-73.972923</td>\n",
              "      <td>40.782520</td>\n",
              "      <td>N</td>\n",
              "      <td>435</td>\n",
              "      <td>26</td>\n",
              "      <td>3</td>\n",
              "      <td>12</td>\n",
              "      <td>13</td>\n",
              "    </tr>\n",
              "  </tbody>\n",
              "</table>\n",
              "</div>\n",
              "      <button class=\"colab-df-convert\" onclick=\"convertToInteractive('df-6cba8630-e8d1-4dd6-9bff-51f06bd83ce5')\"\n",
              "              title=\"Convert this dataframe to an interactive table.\"\n",
              "              style=\"display:none;\">\n",
              "        \n",
              "  <svg xmlns=\"http://www.w3.org/2000/svg\" height=\"24px\"viewBox=\"0 0 24 24\"\n",
              "       width=\"24px\">\n",
              "    <path d=\"M0 0h24v24H0V0z\" fill=\"none\"/>\n",
              "    <path d=\"M18.56 5.44l.94 2.06.94-2.06 2.06-.94-2.06-.94-.94-2.06-.94 2.06-2.06.94zm-11 1L8.5 8.5l.94-2.06 2.06-.94-2.06-.94L8.5 2.5l-.94 2.06-2.06.94zm10 10l.94 2.06.94-2.06 2.06-.94-2.06-.94-.94-2.06-.94 2.06-2.06.94z\"/><path d=\"M17.41 7.96l-1.37-1.37c-.4-.4-.92-.59-1.43-.59-.52 0-1.04.2-1.43.59L10.3 9.45l-7.72 7.72c-.78.78-.78 2.05 0 2.83L4 21.41c.39.39.9.59 1.41.59.51 0 1.02-.2 1.41-.59l7.78-7.78 2.81-2.81c.8-.78.8-2.07 0-2.86zM5.41 20L4 18.59l7.72-7.72 1.47 1.35L5.41 20z\"/>\n",
              "  </svg>\n",
              "      </button>\n",
              "      \n",
              "  <style>\n",
              "    .colab-df-container {\n",
              "      display:flex;\n",
              "      flex-wrap:wrap;\n",
              "      gap: 12px;\n",
              "    }\n",
              "\n",
              "    .colab-df-convert {\n",
              "      background-color: #E8F0FE;\n",
              "      border: none;\n",
              "      border-radius: 50%;\n",
              "      cursor: pointer;\n",
              "      display: none;\n",
              "      fill: #1967D2;\n",
              "      height: 32px;\n",
              "      padding: 0 0 0 0;\n",
              "      width: 32px;\n",
              "    }\n",
              "\n",
              "    .colab-df-convert:hover {\n",
              "      background-color: #E2EBFA;\n",
              "      box-shadow: 0px 1px 2px rgba(60, 64, 67, 0.3), 0px 1px 3px 1px rgba(60, 64, 67, 0.15);\n",
              "      fill: #174EA6;\n",
              "    }\n",
              "\n",
              "    [theme=dark] .colab-df-convert {\n",
              "      background-color: #3B4455;\n",
              "      fill: #D2E3FC;\n",
              "    }\n",
              "\n",
              "    [theme=dark] .colab-df-convert:hover {\n",
              "      background-color: #434B5C;\n",
              "      box-shadow: 0px 1px 3px 1px rgba(0, 0, 0, 0.15);\n",
              "      filter: drop-shadow(0px 1px 2px rgba(0, 0, 0, 0.3));\n",
              "      fill: #FFFFFF;\n",
              "    }\n",
              "  </style>\n",
              "\n",
              "      <script>\n",
              "        const buttonEl =\n",
              "          document.querySelector('#df-6cba8630-e8d1-4dd6-9bff-51f06bd83ce5 button.colab-df-convert');\n",
              "        buttonEl.style.display =\n",
              "          google.colab.kernel.accessAllowed ? 'block' : 'none';\n",
              "\n",
              "        async function convertToInteractive(key) {\n",
              "          const element = document.querySelector('#df-6cba8630-e8d1-4dd6-9bff-51f06bd83ce5');\n",
              "          const dataTable =\n",
              "            await google.colab.kernel.invokeFunction('convertToInteractive',\n",
              "                                                     [key], {});\n",
              "          if (!dataTable) return;\n",
              "\n",
              "          const docLinkHtml = 'Like what you see? Visit the ' +\n",
              "            '<a target=\"_blank\" href=https://colab.research.google.com/notebooks/data_table.ipynb>data table notebook</a>'\n",
              "            + ' to learn more about interactive tables.';\n",
              "          element.innerHTML = '';\n",
              "          dataTable['output_type'] = 'display_data';\n",
              "          await google.colab.output.renderOutput(dataTable, element);\n",
              "          const docLink = document.createElement('div');\n",
              "          docLink.innerHTML = docLinkHtml;\n",
              "          element.appendChild(docLink);\n",
              "        }\n",
              "      </script>\n",
              "    </div>\n",
              "  </div>\n",
              "  "
            ]
          },
          "metadata": {},
          "execution_count": 61
        }
      ]
    },
    {
      "cell_type": "code",
      "source": [
        "#Now we get the column representing distance\n",
        "!pip install haversine\n"
      ],
      "metadata": {
        "colab": {
          "base_uri": "https://localhost:8080/"
        },
        "id": "oerx_9d7RPPo",
        "outputId": "44c1ad80-8784-428c-f187-ef26f3d1d0be"
      },
      "execution_count": 63,
      "outputs": [
        {
          "output_type": "stream",
          "name": "stdout",
          "text": [
            "Looking in indexes: https://pypi.org/simple, https://us-python.pkg.dev/colab-wheels/public/simple/\n",
            "Collecting haversine\n",
            "  Downloading haversine-2.5.1-py2.py3-none-any.whl (6.1 kB)\n",
            "Installing collected packages: haversine\n",
            "Successfully installed haversine-2.5.1\n"
          ]
        }
      ]
    },
    {
      "cell_type": "code",
      "source": [
        "import haversine as hs\n",
        "def get_distance(start_lat,start_long,end_lat,end_long):\n",
        "  loc1=(start_lat,start_long)\n",
        "  loc2=(end_lat,end_long)\n",
        "  return hs.haversine(loc1,loc2)"
      ],
      "metadata": {
        "id": "VSnb9RLVYmlt"
      },
      "execution_count": 67,
      "outputs": []
    },
    {
      "cell_type": "code",
      "source": [
        "df1['distance_in_km']=df1.apply(lambda X: get_distance(X['pickup_latitude'],X['pickup_longitude'],X['dropoff_latitude'],X['dropoff_longitude']),axis=1)"
      ],
      "metadata": {
        "id": "-cXvmmU-TcJi"
      },
      "execution_count": 69,
      "outputs": []
    },
    {
      "cell_type": "code",
      "source": [
        "df1.head()"
      ],
      "metadata": {
        "colab": {
          "base_uri": "https://localhost:8080/",
          "height": 357
        },
        "id": "NR-_soxib_eL",
        "outputId": "ff5945fe-7865-4d86-b7d9-9b602277d06d"
      },
      "execution_count": 70,
      "outputs": [
        {
          "output_type": "execute_result",
          "data": {
            "text/plain": [
              "   is_holiday         id  vendor_id     pickup_datetime     dropoff_datetime  \\\n",
              "0         0.0  id2875421          2 2016-03-14 17:24:55  2016-03-14 17:32:30   \n",
              "1         0.0  id2377394          1 2016-06-12 00:43:35  2016-06-12 00:54:38   \n",
              "2         0.0  id3858529          2 2016-01-19 11:35:24  2016-01-19 12:10:48   \n",
              "3         0.0  id3504673          2 2016-04-06 19:32:31  2016-04-06 19:39:40   \n",
              "4         0.0  id2181028          2 2016-03-26 13:30:55  2016-03-26 13:38:10   \n",
              "\n",
              "   passenger_count  pickup_longitude  pickup_latitude  dropoff_longitude  \\\n",
              "0                1        -73.982155        40.767937         -73.964630   \n",
              "1                1        -73.980415        40.738564         -73.999481   \n",
              "2                1        -73.979027        40.763939         -74.005333   \n",
              "3                1        -74.010040        40.719971         -74.012268   \n",
              "4                1        -73.973053        40.793209         -73.972923   \n",
              "\n",
              "   dropoff_latitude store_and_fwd_flag  trip_duration  date_num  month_num  \\\n",
              "0         40.765602                  N            455        14          3   \n",
              "1         40.731152                  N            663        12          6   \n",
              "2         40.710087                  N           2124        19          1   \n",
              "3         40.706718                  N            429         6          4   \n",
              "4         40.782520                  N            435        26          3   \n",
              "\n",
              "   week_num  hour_of_day  distance_in_km  \n",
              "0        11           17        1.498523  \n",
              "1        23            0        1.805510  \n",
              "2         3           11        6.385107  \n",
              "3        14           19        1.485500  \n",
              "4        12           13        1.188590  "
            ],
            "text/html": [
              "\n",
              "  <div id=\"df-9240c6ad-0ea3-425b-80b2-659dccfe1029\">\n",
              "    <div class=\"colab-df-container\">\n",
              "      <div>\n",
              "<style scoped>\n",
              "    .dataframe tbody tr th:only-of-type {\n",
              "        vertical-align: middle;\n",
              "    }\n",
              "\n",
              "    .dataframe tbody tr th {\n",
              "        vertical-align: top;\n",
              "    }\n",
              "\n",
              "    .dataframe thead th {\n",
              "        text-align: right;\n",
              "    }\n",
              "</style>\n",
              "<table border=\"1\" class=\"dataframe\">\n",
              "  <thead>\n",
              "    <tr style=\"text-align: right;\">\n",
              "      <th></th>\n",
              "      <th>is_holiday</th>\n",
              "      <th>id</th>\n",
              "      <th>vendor_id</th>\n",
              "      <th>pickup_datetime</th>\n",
              "      <th>dropoff_datetime</th>\n",
              "      <th>passenger_count</th>\n",
              "      <th>pickup_longitude</th>\n",
              "      <th>pickup_latitude</th>\n",
              "      <th>dropoff_longitude</th>\n",
              "      <th>dropoff_latitude</th>\n",
              "      <th>store_and_fwd_flag</th>\n",
              "      <th>trip_duration</th>\n",
              "      <th>date_num</th>\n",
              "      <th>month_num</th>\n",
              "      <th>week_num</th>\n",
              "      <th>hour_of_day</th>\n",
              "      <th>distance_in_km</th>\n",
              "    </tr>\n",
              "  </thead>\n",
              "  <tbody>\n",
              "    <tr>\n",
              "      <th>0</th>\n",
              "      <td>0.0</td>\n",
              "      <td>id2875421</td>\n",
              "      <td>2</td>\n",
              "      <td>2016-03-14 17:24:55</td>\n",
              "      <td>2016-03-14 17:32:30</td>\n",
              "      <td>1</td>\n",
              "      <td>-73.982155</td>\n",
              "      <td>40.767937</td>\n",
              "      <td>-73.964630</td>\n",
              "      <td>40.765602</td>\n",
              "      <td>N</td>\n",
              "      <td>455</td>\n",
              "      <td>14</td>\n",
              "      <td>3</td>\n",
              "      <td>11</td>\n",
              "      <td>17</td>\n",
              "      <td>1.498523</td>\n",
              "    </tr>\n",
              "    <tr>\n",
              "      <th>1</th>\n",
              "      <td>0.0</td>\n",
              "      <td>id2377394</td>\n",
              "      <td>1</td>\n",
              "      <td>2016-06-12 00:43:35</td>\n",
              "      <td>2016-06-12 00:54:38</td>\n",
              "      <td>1</td>\n",
              "      <td>-73.980415</td>\n",
              "      <td>40.738564</td>\n",
              "      <td>-73.999481</td>\n",
              "      <td>40.731152</td>\n",
              "      <td>N</td>\n",
              "      <td>663</td>\n",
              "      <td>12</td>\n",
              "      <td>6</td>\n",
              "      <td>23</td>\n",
              "      <td>0</td>\n",
              "      <td>1.805510</td>\n",
              "    </tr>\n",
              "    <tr>\n",
              "      <th>2</th>\n",
              "      <td>0.0</td>\n",
              "      <td>id3858529</td>\n",
              "      <td>2</td>\n",
              "      <td>2016-01-19 11:35:24</td>\n",
              "      <td>2016-01-19 12:10:48</td>\n",
              "      <td>1</td>\n",
              "      <td>-73.979027</td>\n",
              "      <td>40.763939</td>\n",
              "      <td>-74.005333</td>\n",
              "      <td>40.710087</td>\n",
              "      <td>N</td>\n",
              "      <td>2124</td>\n",
              "      <td>19</td>\n",
              "      <td>1</td>\n",
              "      <td>3</td>\n",
              "      <td>11</td>\n",
              "      <td>6.385107</td>\n",
              "    </tr>\n",
              "    <tr>\n",
              "      <th>3</th>\n",
              "      <td>0.0</td>\n",
              "      <td>id3504673</td>\n",
              "      <td>2</td>\n",
              "      <td>2016-04-06 19:32:31</td>\n",
              "      <td>2016-04-06 19:39:40</td>\n",
              "      <td>1</td>\n",
              "      <td>-74.010040</td>\n",
              "      <td>40.719971</td>\n",
              "      <td>-74.012268</td>\n",
              "      <td>40.706718</td>\n",
              "      <td>N</td>\n",
              "      <td>429</td>\n",
              "      <td>6</td>\n",
              "      <td>4</td>\n",
              "      <td>14</td>\n",
              "      <td>19</td>\n",
              "      <td>1.485500</td>\n",
              "    </tr>\n",
              "    <tr>\n",
              "      <th>4</th>\n",
              "      <td>0.0</td>\n",
              "      <td>id2181028</td>\n",
              "      <td>2</td>\n",
              "      <td>2016-03-26 13:30:55</td>\n",
              "      <td>2016-03-26 13:38:10</td>\n",
              "      <td>1</td>\n",
              "      <td>-73.973053</td>\n",
              "      <td>40.793209</td>\n",
              "      <td>-73.972923</td>\n",
              "      <td>40.782520</td>\n",
              "      <td>N</td>\n",
              "      <td>435</td>\n",
              "      <td>26</td>\n",
              "      <td>3</td>\n",
              "      <td>12</td>\n",
              "      <td>13</td>\n",
              "      <td>1.188590</td>\n",
              "    </tr>\n",
              "  </tbody>\n",
              "</table>\n",
              "</div>\n",
              "      <button class=\"colab-df-convert\" onclick=\"convertToInteractive('df-9240c6ad-0ea3-425b-80b2-659dccfe1029')\"\n",
              "              title=\"Convert this dataframe to an interactive table.\"\n",
              "              style=\"display:none;\">\n",
              "        \n",
              "  <svg xmlns=\"http://www.w3.org/2000/svg\" height=\"24px\"viewBox=\"0 0 24 24\"\n",
              "       width=\"24px\">\n",
              "    <path d=\"M0 0h24v24H0V0z\" fill=\"none\"/>\n",
              "    <path d=\"M18.56 5.44l.94 2.06.94-2.06 2.06-.94-2.06-.94-.94-2.06-.94 2.06-2.06.94zm-11 1L8.5 8.5l.94-2.06 2.06-.94-2.06-.94L8.5 2.5l-.94 2.06-2.06.94zm10 10l.94 2.06.94-2.06 2.06-.94-2.06-.94-.94-2.06-.94 2.06-2.06.94z\"/><path d=\"M17.41 7.96l-1.37-1.37c-.4-.4-.92-.59-1.43-.59-.52 0-1.04.2-1.43.59L10.3 9.45l-7.72 7.72c-.78.78-.78 2.05 0 2.83L4 21.41c.39.39.9.59 1.41.59.51 0 1.02-.2 1.41-.59l7.78-7.78 2.81-2.81c.8-.78.8-2.07 0-2.86zM5.41 20L4 18.59l7.72-7.72 1.47 1.35L5.41 20z\"/>\n",
              "  </svg>\n",
              "      </button>\n",
              "      \n",
              "  <style>\n",
              "    .colab-df-container {\n",
              "      display:flex;\n",
              "      flex-wrap:wrap;\n",
              "      gap: 12px;\n",
              "    }\n",
              "\n",
              "    .colab-df-convert {\n",
              "      background-color: #E8F0FE;\n",
              "      border: none;\n",
              "      border-radius: 50%;\n",
              "      cursor: pointer;\n",
              "      display: none;\n",
              "      fill: #1967D2;\n",
              "      height: 32px;\n",
              "      padding: 0 0 0 0;\n",
              "      width: 32px;\n",
              "    }\n",
              "\n",
              "    .colab-df-convert:hover {\n",
              "      background-color: #E2EBFA;\n",
              "      box-shadow: 0px 1px 2px rgba(60, 64, 67, 0.3), 0px 1px 3px 1px rgba(60, 64, 67, 0.15);\n",
              "      fill: #174EA6;\n",
              "    }\n",
              "\n",
              "    [theme=dark] .colab-df-convert {\n",
              "      background-color: #3B4455;\n",
              "      fill: #D2E3FC;\n",
              "    }\n",
              "\n",
              "    [theme=dark] .colab-df-convert:hover {\n",
              "      background-color: #434B5C;\n",
              "      box-shadow: 0px 1px 3px 1px rgba(0, 0, 0, 0.15);\n",
              "      filter: drop-shadow(0px 1px 2px rgba(0, 0, 0, 0.3));\n",
              "      fill: #FFFFFF;\n",
              "    }\n",
              "  </style>\n",
              "\n",
              "      <script>\n",
              "        const buttonEl =\n",
              "          document.querySelector('#df-9240c6ad-0ea3-425b-80b2-659dccfe1029 button.colab-df-convert');\n",
              "        buttonEl.style.display =\n",
              "          google.colab.kernel.accessAllowed ? 'block' : 'none';\n",
              "\n",
              "        async function convertToInteractive(key) {\n",
              "          const element = document.querySelector('#df-9240c6ad-0ea3-425b-80b2-659dccfe1029');\n",
              "          const dataTable =\n",
              "            await google.colab.kernel.invokeFunction('convertToInteractive',\n",
              "                                                     [key], {});\n",
              "          if (!dataTable) return;\n",
              "\n",
              "          const docLinkHtml = 'Like what you see? Visit the ' +\n",
              "            '<a target=\"_blank\" href=https://colab.research.google.com/notebooks/data_table.ipynb>data table notebook</a>'\n",
              "            + ' to learn more about interactive tables.';\n",
              "          element.innerHTML = '';\n",
              "          dataTable['output_type'] = 'display_data';\n",
              "          await google.colab.output.renderOutput(dataTable, element);\n",
              "          const docLink = document.createElement('div');\n",
              "          docLink.innerHTML = docLinkHtml;\n",
              "          element.appendChild(docLink);\n",
              "        }\n",
              "      </script>\n",
              "    </div>\n",
              "  </div>\n",
              "  "
            ]
          },
          "metadata": {},
          "execution_count": 70
        }
      ]
    },
    {
      "cell_type": "code",
      "source": [
        "df1['average_speed_kmph']=df1['distance_in_km']*3600/df1['trip_duration']"
      ],
      "metadata": {
        "id": "ZuyyJaIocUG8"
      },
      "execution_count": 75,
      "outputs": []
    },
    {
      "cell_type": "code",
      "source": [
        "df1.head()"
      ],
      "metadata": {
        "colab": {
          "base_uri": "https://localhost:8080/",
          "height": 357
        },
        "id": "KeNlAPXTfDtK",
        "outputId": "9dda87be-3267-41f7-9f12-e034aaa65f07"
      },
      "execution_count": 76,
      "outputs": [
        {
          "output_type": "execute_result",
          "data": {
            "text/plain": [
              "   is_holiday         id  vendor_id     pickup_datetime     dropoff_datetime  \\\n",
              "0         0.0  id2875421          2 2016-03-14 17:24:55  2016-03-14 17:32:30   \n",
              "1         0.0  id2377394          1 2016-06-12 00:43:35  2016-06-12 00:54:38   \n",
              "2         0.0  id3858529          2 2016-01-19 11:35:24  2016-01-19 12:10:48   \n",
              "3         0.0  id3504673          2 2016-04-06 19:32:31  2016-04-06 19:39:40   \n",
              "4         0.0  id2181028          2 2016-03-26 13:30:55  2016-03-26 13:38:10   \n",
              "\n",
              "   passenger_count  pickup_longitude  pickup_latitude  dropoff_longitude  \\\n",
              "0                1        -73.982155        40.767937         -73.964630   \n",
              "1                1        -73.980415        40.738564         -73.999481   \n",
              "2                1        -73.979027        40.763939         -74.005333   \n",
              "3                1        -74.010040        40.719971         -74.012268   \n",
              "4                1        -73.973053        40.793209         -73.972923   \n",
              "\n",
              "   dropoff_latitude store_and_fwd_flag  trip_duration  date_num  month_num  \\\n",
              "0         40.765602                  N            455        14          3   \n",
              "1         40.731152                  N            663        12          6   \n",
              "2         40.710087                  N           2124        19          1   \n",
              "3         40.706718                  N            429         6          4   \n",
              "4         40.782520                  N            435        26          3   \n",
              "\n",
              "   week_num  hour_of_day  distance_in_km  average_speed  average_speed_kmph  \n",
              "0        11           17        1.498523      11.856445           11.856445  \n",
              "1        23            0        1.805510       9.803672            9.803672  \n",
              "2         3           11        6.385107      10.822216           10.822216  \n",
              "3        14           19        1.485500      12.465738           12.465738  \n",
              "4        12           13        1.188590       9.836608            9.836608  "
            ],
            "text/html": [
              "\n",
              "  <div id=\"df-ccca2323-0e1d-4453-804b-ac8ae683f730\">\n",
              "    <div class=\"colab-df-container\">\n",
              "      <div>\n",
              "<style scoped>\n",
              "    .dataframe tbody tr th:only-of-type {\n",
              "        vertical-align: middle;\n",
              "    }\n",
              "\n",
              "    .dataframe tbody tr th {\n",
              "        vertical-align: top;\n",
              "    }\n",
              "\n",
              "    .dataframe thead th {\n",
              "        text-align: right;\n",
              "    }\n",
              "</style>\n",
              "<table border=\"1\" class=\"dataframe\">\n",
              "  <thead>\n",
              "    <tr style=\"text-align: right;\">\n",
              "      <th></th>\n",
              "      <th>is_holiday</th>\n",
              "      <th>id</th>\n",
              "      <th>vendor_id</th>\n",
              "      <th>pickup_datetime</th>\n",
              "      <th>dropoff_datetime</th>\n",
              "      <th>passenger_count</th>\n",
              "      <th>pickup_longitude</th>\n",
              "      <th>pickup_latitude</th>\n",
              "      <th>dropoff_longitude</th>\n",
              "      <th>dropoff_latitude</th>\n",
              "      <th>store_and_fwd_flag</th>\n",
              "      <th>trip_duration</th>\n",
              "      <th>date_num</th>\n",
              "      <th>month_num</th>\n",
              "      <th>week_num</th>\n",
              "      <th>hour_of_day</th>\n",
              "      <th>distance_in_km</th>\n",
              "      <th>average_speed</th>\n",
              "      <th>average_speed_kmph</th>\n",
              "    </tr>\n",
              "  </thead>\n",
              "  <tbody>\n",
              "    <tr>\n",
              "      <th>0</th>\n",
              "      <td>0.0</td>\n",
              "      <td>id2875421</td>\n",
              "      <td>2</td>\n",
              "      <td>2016-03-14 17:24:55</td>\n",
              "      <td>2016-03-14 17:32:30</td>\n",
              "      <td>1</td>\n",
              "      <td>-73.982155</td>\n",
              "      <td>40.767937</td>\n",
              "      <td>-73.964630</td>\n",
              "      <td>40.765602</td>\n",
              "      <td>N</td>\n",
              "      <td>455</td>\n",
              "      <td>14</td>\n",
              "      <td>3</td>\n",
              "      <td>11</td>\n",
              "      <td>17</td>\n",
              "      <td>1.498523</td>\n",
              "      <td>11.856445</td>\n",
              "      <td>11.856445</td>\n",
              "    </tr>\n",
              "    <tr>\n",
              "      <th>1</th>\n",
              "      <td>0.0</td>\n",
              "      <td>id2377394</td>\n",
              "      <td>1</td>\n",
              "      <td>2016-06-12 00:43:35</td>\n",
              "      <td>2016-06-12 00:54:38</td>\n",
              "      <td>1</td>\n",
              "      <td>-73.980415</td>\n",
              "      <td>40.738564</td>\n",
              "      <td>-73.999481</td>\n",
              "      <td>40.731152</td>\n",
              "      <td>N</td>\n",
              "      <td>663</td>\n",
              "      <td>12</td>\n",
              "      <td>6</td>\n",
              "      <td>23</td>\n",
              "      <td>0</td>\n",
              "      <td>1.805510</td>\n",
              "      <td>9.803672</td>\n",
              "      <td>9.803672</td>\n",
              "    </tr>\n",
              "    <tr>\n",
              "      <th>2</th>\n",
              "      <td>0.0</td>\n",
              "      <td>id3858529</td>\n",
              "      <td>2</td>\n",
              "      <td>2016-01-19 11:35:24</td>\n",
              "      <td>2016-01-19 12:10:48</td>\n",
              "      <td>1</td>\n",
              "      <td>-73.979027</td>\n",
              "      <td>40.763939</td>\n",
              "      <td>-74.005333</td>\n",
              "      <td>40.710087</td>\n",
              "      <td>N</td>\n",
              "      <td>2124</td>\n",
              "      <td>19</td>\n",
              "      <td>1</td>\n",
              "      <td>3</td>\n",
              "      <td>11</td>\n",
              "      <td>6.385107</td>\n",
              "      <td>10.822216</td>\n",
              "      <td>10.822216</td>\n",
              "    </tr>\n",
              "    <tr>\n",
              "      <th>3</th>\n",
              "      <td>0.0</td>\n",
              "      <td>id3504673</td>\n",
              "      <td>2</td>\n",
              "      <td>2016-04-06 19:32:31</td>\n",
              "      <td>2016-04-06 19:39:40</td>\n",
              "      <td>1</td>\n",
              "      <td>-74.010040</td>\n",
              "      <td>40.719971</td>\n",
              "      <td>-74.012268</td>\n",
              "      <td>40.706718</td>\n",
              "      <td>N</td>\n",
              "      <td>429</td>\n",
              "      <td>6</td>\n",
              "      <td>4</td>\n",
              "      <td>14</td>\n",
              "      <td>19</td>\n",
              "      <td>1.485500</td>\n",
              "      <td>12.465738</td>\n",
              "      <td>12.465738</td>\n",
              "    </tr>\n",
              "    <tr>\n",
              "      <th>4</th>\n",
              "      <td>0.0</td>\n",
              "      <td>id2181028</td>\n",
              "      <td>2</td>\n",
              "      <td>2016-03-26 13:30:55</td>\n",
              "      <td>2016-03-26 13:38:10</td>\n",
              "      <td>1</td>\n",
              "      <td>-73.973053</td>\n",
              "      <td>40.793209</td>\n",
              "      <td>-73.972923</td>\n",
              "      <td>40.782520</td>\n",
              "      <td>N</td>\n",
              "      <td>435</td>\n",
              "      <td>26</td>\n",
              "      <td>3</td>\n",
              "      <td>12</td>\n",
              "      <td>13</td>\n",
              "      <td>1.188590</td>\n",
              "      <td>9.836608</td>\n",
              "      <td>9.836608</td>\n",
              "    </tr>\n",
              "  </tbody>\n",
              "</table>\n",
              "</div>\n",
              "      <button class=\"colab-df-convert\" onclick=\"convertToInteractive('df-ccca2323-0e1d-4453-804b-ac8ae683f730')\"\n",
              "              title=\"Convert this dataframe to an interactive table.\"\n",
              "              style=\"display:none;\">\n",
              "        \n",
              "  <svg xmlns=\"http://www.w3.org/2000/svg\" height=\"24px\"viewBox=\"0 0 24 24\"\n",
              "       width=\"24px\">\n",
              "    <path d=\"M0 0h24v24H0V0z\" fill=\"none\"/>\n",
              "    <path d=\"M18.56 5.44l.94 2.06.94-2.06 2.06-.94-2.06-.94-.94-2.06-.94 2.06-2.06.94zm-11 1L8.5 8.5l.94-2.06 2.06-.94-2.06-.94L8.5 2.5l-.94 2.06-2.06.94zm10 10l.94 2.06.94-2.06 2.06-.94-2.06-.94-.94-2.06-.94 2.06-2.06.94z\"/><path d=\"M17.41 7.96l-1.37-1.37c-.4-.4-.92-.59-1.43-.59-.52 0-1.04.2-1.43.59L10.3 9.45l-7.72 7.72c-.78.78-.78 2.05 0 2.83L4 21.41c.39.39.9.59 1.41.59.51 0 1.02-.2 1.41-.59l7.78-7.78 2.81-2.81c.8-.78.8-2.07 0-2.86zM5.41 20L4 18.59l7.72-7.72 1.47 1.35L5.41 20z\"/>\n",
              "  </svg>\n",
              "      </button>\n",
              "      \n",
              "  <style>\n",
              "    .colab-df-container {\n",
              "      display:flex;\n",
              "      flex-wrap:wrap;\n",
              "      gap: 12px;\n",
              "    }\n",
              "\n",
              "    .colab-df-convert {\n",
              "      background-color: #E8F0FE;\n",
              "      border: none;\n",
              "      border-radius: 50%;\n",
              "      cursor: pointer;\n",
              "      display: none;\n",
              "      fill: #1967D2;\n",
              "      height: 32px;\n",
              "      padding: 0 0 0 0;\n",
              "      width: 32px;\n",
              "    }\n",
              "\n",
              "    .colab-df-convert:hover {\n",
              "      background-color: #E2EBFA;\n",
              "      box-shadow: 0px 1px 2px rgba(60, 64, 67, 0.3), 0px 1px 3px 1px rgba(60, 64, 67, 0.15);\n",
              "      fill: #174EA6;\n",
              "    }\n",
              "\n",
              "    [theme=dark] .colab-df-convert {\n",
              "      background-color: #3B4455;\n",
              "      fill: #D2E3FC;\n",
              "    }\n",
              "\n",
              "    [theme=dark] .colab-df-convert:hover {\n",
              "      background-color: #434B5C;\n",
              "      box-shadow: 0px 1px 3px 1px rgba(0, 0, 0, 0.15);\n",
              "      filter: drop-shadow(0px 1px 2px rgba(0, 0, 0, 0.3));\n",
              "      fill: #FFFFFF;\n",
              "    }\n",
              "  </style>\n",
              "\n",
              "      <script>\n",
              "        const buttonEl =\n",
              "          document.querySelector('#df-ccca2323-0e1d-4453-804b-ac8ae683f730 button.colab-df-convert');\n",
              "        buttonEl.style.display =\n",
              "          google.colab.kernel.accessAllowed ? 'block' : 'none';\n",
              "\n",
              "        async function convertToInteractive(key) {\n",
              "          const element = document.querySelector('#df-ccca2323-0e1d-4453-804b-ac8ae683f730');\n",
              "          const dataTable =\n",
              "            await google.colab.kernel.invokeFunction('convertToInteractive',\n",
              "                                                     [key], {});\n",
              "          if (!dataTable) return;\n",
              "\n",
              "          const docLinkHtml = 'Like what you see? Visit the ' +\n",
              "            '<a target=\"_blank\" href=https://colab.research.google.com/notebooks/data_table.ipynb>data table notebook</a>'\n",
              "            + ' to learn more about interactive tables.';\n",
              "          element.innerHTML = '';\n",
              "          dataTable['output_type'] = 'display_data';\n",
              "          await google.colab.output.renderOutput(dataTable, element);\n",
              "          const docLink = document.createElement('div');\n",
              "          docLink.innerHTML = docLinkHtml;\n",
              "          element.appendChild(docLink);\n",
              "        }\n",
              "      </script>\n",
              "    </div>\n",
              "  </div>\n",
              "  "
            ]
          },
          "metadata": {},
          "execution_count": 76
        }
      ]
    },
    {
      "cell_type": "code",
      "source": [
        "len(df['id'].unique())"
      ],
      "metadata": {
        "colab": {
          "base_uri": "https://localhost:8080/"
        },
        "id": "79jFOX3DhgWQ",
        "outputId": "b88497c1-7110-4972-ef87-2a27107ed3ec"
      },
      "execution_count": 77,
      "outputs": [
        {
          "output_type": "execute_result",
          "data": {
            "text/plain": [
              "1458644"
            ]
          },
          "metadata": {},
          "execution_count": 77
        }
      ]
    },
    {
      "cell_type": "code",
      "source": [
        "#Now we finalize the dataset\n",
        "df1=df1[['vendor_id','passenger_count','is_holiday','store_and_fwd_flag','date_num',\n",
        "         'month_num',\t'week_num',\t'hour_of_day',\t'distance_in_km',\t'average_speed_kmph']]"
      ],
      "metadata": {
        "id": "1dvlfCjXg2xs"
      },
      "execution_count": 78,
      "outputs": []
    }
  ]
}